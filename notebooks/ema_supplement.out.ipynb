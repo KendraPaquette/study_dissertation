{
 "cells": [
  {
   "cell_type": "markdown",
   "metadata": {},
   "source": [
    "# Supplemental Material for EMA Manuscript\n",
    "\n",
    "Machine learning models for temporally precise lapse prediction in alcohol use disorder\n",
    "\n",
    "Kendra Wyant, Sarah J. Sant’Ana, Gaylen E. Fronk, John J. Curtin  \n",
    "January 3, 2025"
   ],
   "id": "0b6f7a96-7e8d-408e-9988-067f5d98ae10"
  },
  {
   "cell_type": "code",
   "execution_count": null,
   "metadata": {},
   "outputs": [],
   "source": [
    "# settings\n",
    "options(knitr.kable.NA = '')\n",
    "knitr::opts_chunk$set(out.extra = \"\")\n",
    "options(scipen = 999) #removes scientific notation\n"
   ],
   "id": "d3328618-eeb7-413d-9845-a07a822e25fb"
  },
  {
   "cell_type": "code",
   "execution_count": null,
   "metadata": {},
   "outputs": [
    {
     "output_type": "stream",
     "name": "stderr",
     "text": [
      "\n",
      "Attaching package: 'janitor'"
     ]
    },
    {
     "output_type": "stream",
     "name": "stderr",
     "text": [
      "The following objects are masked from 'package:stats':\n",
      "\n",
      "    chisq.test, fisher.test"
     ]
    },
    {
     "output_type": "stream",
     "name": "stderr",
     "text": [
      "── Attaching core tidyverse packages ──────────────────────── tidyverse 2.0.0 ──\n",
      "✔ dplyr     1.1.4     ✔ readr     2.1.5\n",
      "✔ forcats   1.0.0     ✔ stringr   1.5.1\n",
      "✔ ggplot2   3.5.1     ✔ tibble    3.2.1\n",
      "✔ lubridate 1.9.3     ✔ tidyr     1.3.1\n",
      "✔ purrr     1.0.2     "
     ]
    },
    {
     "output_type": "stream",
     "name": "stderr",
     "text": [
      "── Conflicts ────────────────────────────────────────── tidyverse_conflicts() ──\n",
      "✖ dplyr::filter()     masks stats::filter()\n",
      "✖ dplyr::group_rows() masks kableExtra::group_rows()\n",
      "✖ dplyr::lag()        masks stats::lag()\n",
      "ℹ Use the conflicted package (<http://conflicted.r-lib.org/>) to force all conflicts to become errors"
     ]
    },
    {
     "output_type": "stream",
     "name": "stderr",
     "text": [
      "── Attaching packages ────────────────────────────────────── tidymodels 1.2.0 ──\n",
      "✔ broom        1.0.7      ✔ rsample      1.2.1 \n",
      "✔ dials        1.2.1      ✔ tune         1.2.1 \n",
      "✔ infer        1.0.7      ✔ workflows    1.1.4 \n",
      "✔ modeldata    1.3.0      ✔ workflowsets 1.1.0 \n",
      "✔ parsnip      1.2.1      ✔ yardstick    1.3.1 \n",
      "✔ recipes      1.0.10     \n",
      "── Conflicts ───────────────────────────────────────── tidymodels_conflicts() ──\n",
      "✖ scales::discard()   masks purrr::discard()\n",
      "✖ dplyr::filter()     masks stats::filter()\n",
      "✖ recipes::fixed()    masks stringr::fixed()\n",
      "✖ dplyr::group_rows() masks kableExtra::group_rows()\n",
      "✖ dplyr::lag()        masks stats::lag()\n",
      "✖ yardstick::spec()   masks readr::spec()\n",
      "✖ recipes::step()     masks stats::step()\n",
      "• Search for functions across packages at https://www.tidymodels.org/find/"
     ]
    },
    {
     "output_type": "stream",
     "name": "stderr",
     "text": [
      "\n",
      "Attaching package: 'cowplot'\n",
      "\n",
      "The following object is masked from 'package:lubridate':\n",
      "\n",
      "    stamp\n",
      "\n",
      "The following object is masked from 'package:patchwork':\n",
      "\n",
      "    align_plots"
     ]
    }
   ],
   "source": [
    "library(knitr)\n",
    "# library(yardstick) # for roc_curve and pr_curve\n",
    "library(kableExtra)\n",
    "library(janitor)\n"
   ],
   "id": "57026430-a5ff-496b-8252-58cd9b98ad4a"
  },
  {
   "cell_type": "code",
   "execution_count": null,
   "metadata": {},
   "outputs": [
    {
     "output_type": "stream",
     "name": "stderr",
     "text": [
      "ℹ SHA-1 hash of file is \"a58e57da996d1b70bb9a5b58241325d6fd78890f\""
     ]
    }
   ],
   "source": [
    "devtools::source_url(\"https://github.com/jjcurtin/lab_support/blob/main/format_path.R?raw=true\")\n"
   ],
   "id": "104c25f5-ff5b-43d1-a708-e61c3cba5695"
  },
  {
   "cell_type": "code",
   "execution_count": null,
   "metadata": {},
   "outputs": [],
   "source": [
    "# Table data\n",
    "disposition <- read_csv(file.path(path_processed, \"disposition.csv\"), \n",
    "                        col_types = \"ccDDcccccccccc\")\n",
    "screen <- read_csv(file.path(path_shared, \"screen.csv\"), \n",
    "                   col_types = cols()) |>\n",
    "  filter(subid %in% subset(disposition, analysis == \"yes\")$subid)\n",
    "\n",
    "lapses <- read_csv(file.path(path_shared, \"lapses.csv\"), col_types = cols()) |>\n",
    "  filter(exclude == FALSE)\n",
    "\n",
    "# Predictions data\n",
    "preds_week<- read_rds(file.path(path_models, \"outer_preds_1week_0_v5_nested_main.rds\")) |> \n",
    "  select(outer_split_num, label, prob = prob_beta)\n",
    "preds_day<- read_rds(file.path(path_models, \"outer_preds_1day_0_v5_nested_main.rds\")) |> \n",
    "  select(outer_split_num, label, prob = prob_beta)\n",
    "preds_hour<- read_rds(file.path(path_models, \"outer_preds_1hour_0_v5_nested_main.rds\")) |> \n",
    "  select(outer_split_num, label, prob = prob_beta)\n",
    "\n",
    "auc_week <- read_rds(file.path(path_models, \"outer_metrics_1week_0_v5_nested_main.rds\")) |> \n",
    "  select(outer_split_num, contains(\"auc\"))\n",
    "auc_day <- read_rds(file.path(path_models, \"outer_metrics_1day_0_v5_nested_main.rds\")) |> \n",
    "  select(outer_split_num, contains(\"auc\"))\n",
    "auc_hour <- read_rds(file.path(path_models, \"outer_metrics_1hour_0_v5_nested_main.rds\")) |> \n",
    "  select(outer_split_num, contains(\"auc\"))\n",
    "\n",
    "auc_week_baseline <- read_rds(file.path(path_models, \"outer_metrics_1week_0_v3_nested_baseline.rds\")) |> \n",
    "  select(outer_split_num, contains(\"auc\")) \n",
    "\n",
    "auc_day_baseline <- read_rds(file.path(path_models, \"outer_metrics_1day_0_v3_nested_baseline.rds\")) |> \n",
    "  select(outer_split_num, contains(\"auc\")) \n",
    "\n",
    "auc_hour_baseline <- read_rds(file.path(path_models, \"outer_metrics_1hour_0_v3_nested_baseline.rds\")) |> \n",
    "  select(outer_split_num, contains(\"auc\"))\n",
    "\n",
    "# posterior probabilities\n",
    "pp <- read_rds(file.path(path_models, \"posteriors_all_0_v5_nested.rds\"))\n",
    "pp_baseline <- read_rds(file.path(path_models, \"posteriors_all_0_v3_nested_baseline.rds\"))\n",
    "\n",
    "# roc overall\n",
    "roc_week_full <- preds_week |> \n",
    "  roc_curve(prob, truth = label)\n",
    "\n",
    "roc_day_full <- preds_day |> \n",
    "  roc_curve(prob, truth = label)\n",
    "\n",
    "roc_hour_full <- preds_hour |> \n",
    "  roc_curve(prob, truth = label)\n",
    "\n",
    "# rocs per fold\n",
    "roc_week <- preds_week |> \n",
    "  nest(.by = outer_split_num, .key = \"preds\") |> \n",
    "  mutate(roc = map(preds, \\(preds) roc_curve(preds, prob,\n",
    "                                             truth = label))) |> \n",
    "  mutate(model = \"week\")\n",
    "\n",
    "roc_day <- preds_day |> \n",
    "  nest(.by = outer_split_num, .key = \"preds\") |> \n",
    "  mutate(roc = map(preds, \\(preds) roc_curve(preds, prob,\n",
    "                                             truth = label))) |> \n",
    "  mutate(model = \"day\")\n",
    "\n",
    "roc_hour <- preds_hour |> \n",
    "  nest(.by = outer_split_num, .key = \"preds\") |> \n",
    "  mutate(roc = map(preds, \\(preds) roc_curve(preds, prob,\n",
    "                                             truth = label))) |> \n",
    "  mutate(model = \"week\")\n",
    "\n",
    "\n",
    "# PR curves\n",
    "pr_week <- preds_week |> \n",
    "  pr_curve(prob, truth = label) |>  \n",
    "  mutate(model = \"1week\")\n",
    "\n",
    "pr_day <- preds_day |> \n",
    "  pr_curve(prob, truth = label) |> \n",
    "  mutate(model = \"1day\")\n",
    "\n",
    "pr_hour <- preds_hour|> \n",
    "  pr_curve(prob, truth = label) |> \n",
    "  mutate(model = \"1hour\")\n",
    "\n",
    "pr_all <- pr_week |> \n",
    "  bind_rows(pr_day) |> \n",
    "  bind_rows(pr_hour)\n",
    "\n",
    "\n",
    "# lapse labels\n",
    "labels_week <- read_csv(file.path(path_processed, \"labels_1week.csv\"), col_types = cols())\n",
    "labels_day <- read_csv(file.path(path_processed, \"labels_1day.csv\"), col_types = cols())\n",
    "labels_hour <- read_csv(file.path(path_processed, \"labels_1hour.csv\"), col_types = cols())\n",
    "\n",
    "# ema data\n",
    "ema_m <- read_csv(file.path(path_shared, \"ema_morning.csv\"), col_types = cols()) |> \n",
    "  mutate(read_csv = with_tz(start_date, tzone = \"America/Chicago\"),\n",
    "         subid = as.numeric(subid))\n",
    "ema_l <- read_csv(file.path(path_shared, \"ema_later.csv\"), col_types = cols()) |> \n",
    "  mutate(start_date = with_tz(start_date, tzone = \"America/Chicago\"),\n",
    "         subid = as.numeric(subid))\n",
    "\n",
    "\n",
    "# features for missing data calculations\n",
    "d_hour <- read_csv(file.path(path_processed, \"features_1hour_0_v5.csv.xz\"), col_types = cols())\n",
    "\n",
    "d_day <- read_csv(file.path(path_processed, \"features_1day_0_v5.csv.xz\"), col_types = cols())\n",
    "\n",
    "d_week <- read_csv(file.path(path_processed, \"features_1week_0_v5.csv.xz\"), col_types = cols())\n"
   ],
   "id": "cc7ad689-4e27-42be-9d8c-cb60885ec4f5"
  },
  {
   "cell_type": "markdown",
   "metadata": {},
   "source": [
    "## Supplemental Figures"
   ],
   "id": "2fe440ad-4809-476a-8273-487d355c4775"
  },
  {
   "cell_type": "raw",
   "metadata": {
    "raw_mimetype": "text/html"
   },
   "source": [
    "<!--***************************************************************************-->"
   ],
   "id": "bf6e17ab-facf-4254-aafb-4960ecf0a3c2"
  },
  {
   "cell_type": "raw",
   "metadata": {
    "raw_mimetype": "text/html"
   },
   "source": [
    "<!-- Figure S1: Consort Diagram-->"
   ],
   "id": "22e34370-2240-4862-98c8-06e8ddea51cb"
  },
  {
   "cell_type": "code",
   "execution_count": null,
   "metadata": {},
   "outputs": [
    {
     "output_type": "display_data",
     "metadata": {},
     "data": {
      "image/png": "[encoded data removed]"
     }
    }
   ],
   "source": [
    "\n",
    "consort_plot(data = disposition,\n",
    "             orders = c(eligible = \"Eligible Sample\",\n",
    "                        consented_reason = \"Not Consented\",\n",
    "                        consented = \"Consented\",\n",
    "                        enrolled_reason = \"Not Enrolled\",\n",
    "                        enrolled = \"Enrolled\",\n",
    "                        completed_followup_reason = \"Discontinued\",\n",
    "                        completed_followup = \"Completed through Followup 1\",\n",
    "                        analysis_reason = \"Excluded\",\n",
    "                        analysis = \"Final Analysis\"),\n",
    "             side_box = c(\"consented_reason\", \n",
    "                          \"enrolled_reason\", \n",
    "                          \"completed_followup_reason\",\n",
    "                          \"analysis_reason\"),\n",
    "             cex = .8,\n",
    "             text_width = 45)\n"
   ],
   "id": "cell-fig-consort"
  },
  {
   "cell_type": "raw",
   "metadata": {
    "raw_mimetype": "text/html"
   },
   "source": [
    "<!--***************************************************************************-->"
   ],
   "id": "8694a9ab-b744-4159-a2e9-d6e09688617c"
  },
  {
   "cell_type": "raw",
   "metadata": {
    "raw_mimetype": "text/html"
   },
   "source": [
    "<!-- Figure S2: EMA completion rate for 4x daily and 1x daily by week-->"
   ],
   "id": "b0e6fd7e-d383-4ff8-846e-f51502a60419"
  },
  {
   "cell_type": "code",
   "execution_count": null,
   "metadata": {},
   "outputs": [],
   "source": [
    "ana_sample <- disposition |> \n",
    "  filter(analysis == \"yes\")\n",
    "\n",
    "ema <- ema_m |> \n",
    "  select(subid, start_date) |> \n",
    "  full_join(ema_l |> select(subid, start_date), by = c(\"subid\", \"start_date\")) |> \n",
    "  mutate(start_date = date(start_date),\n",
    "         subid = as.numeric(subid)) |> \n",
    "  filter(subid %in% ana_sample$subid)\n",
    "\n",
    "# function to map over\n",
    "get_study_days <- function(the_subid, dates) {\n",
    "  start_study <- dates |> filter(subid == the_subid) |> pull(start_study)\n",
    "  end_study <- dates |> filter(subid == the_subid) |> pull(end_study)\n",
    "  study_days <- tibble(subid = the_subid, study_day = seq(start_study, end_study - days(1), by = \"day\")) \n",
    "  return(study_days)\n",
    "}\n",
    "\n",
    "study_dates <- ana_sample$subid |> \n",
    "  map_dfr(~get_study_days(.x, disposition |> \n",
    "                            select(subid, start_study, end_study)))\n",
    "\n",
    "# count EMAs per day\n",
    "ema_count_4x <- ema |>  \n",
    "  count(subid, start_date) |>\n",
    "  mutate(n = if_else(n > 4, 4, as.numeric(n)))\n",
    "\n",
    "# left join with study dates\n",
    "ema_study_dates <- study_dates |>\n",
    "  left_join(ema_count_4x |> \n",
    "              mutate(subid = as.character(subid)), by = c(\"subid\", \"study_day\" = \"start_date\")) |> \n",
    "  mutate(n = if_else(is.na(n), 0, n)) |> \n",
    "  mutate(n_prompts = 4)\n",
    "\n",
    "# slice into 7 day bins\n",
    "ema_study_weeks <- ema_study_dates |> \n",
    "  group_by(subid) |> \n",
    "  slice(1:7) |> \n",
    "  mutate(week = 1) |> \n",
    "  bind_rows(ema_study_dates |> \n",
    "    group_by(subid) |> \n",
    "    slice(8:14) |> \n",
    "    mutate(week = 2)) |> \n",
    "  bind_rows(ema_study_dates |> \n",
    "    group_by(subid) |> \n",
    "    slice(15:21) |> \n",
    "    mutate(week = 3)) |> \n",
    "  bind_rows(ema_study_dates |> \n",
    "    group_by(subid) |> \n",
    "    slice(22:28) |> \n",
    "    mutate(week = 4)) |> \n",
    "  bind_rows(ema_study_dates |> \n",
    "    group_by(subid) |> \n",
    "    slice(29:35) |> \n",
    "    mutate(week = 5)) |> \n",
    "  bind_rows(ema_study_dates |> \n",
    "    group_by(subid) |> \n",
    "    slice(36:42) |> \n",
    "    mutate(week = 6)) |> \n",
    "  bind_rows(ema_study_dates |> \n",
    "    group_by(subid) |> \n",
    "    slice(43:49) |> \n",
    "    mutate(week = 7)) |> \n",
    "  bind_rows(ema_study_dates |> \n",
    "    group_by(subid) |> \n",
    "    slice(50:56) |> \n",
    "    mutate(week = 8)) |> \n",
    "  bind_rows(ema_study_dates |> \n",
    "    group_by(subid) |> \n",
    "    slice(57:63) |> \n",
    "    mutate(week = 9)) |> \n",
    "  bind_rows(ema_study_dates |> \n",
    "    group_by(subid) |> \n",
    "    slice(64:70) |> \n",
    "    mutate(week = 10)) |> \n",
    "  bind_rows(ema_study_dates |> \n",
    "    group_by(subid) |> \n",
    "    slice(71:77) |> \n",
    "    mutate(week = 11)) |> \n",
    "  bind_rows(ema_study_dates |> \n",
    "    group_by(subid) |> \n",
    "    slice(78:84) |> \n",
    "    mutate(week = 12)) |> \n",
    "  ungroup()\n",
    "\n",
    "ema_week_compliance_4x <- ema_study_weeks |> \n",
    "  group_by(subid, week) |> \n",
    "  summarize(sum_n = sum(n), sum_prompts = sum(n_prompts), .groups = \"rowwise\") |> \n",
    "  mutate(compliance = sum_n/sum_prompts) |> \n",
    "  ungroup()\n",
    "\n",
    "ema_week_compliance_1x <- ema_study_weeks |>\n",
    "  mutate(n = if_else(n > 1, 1, n),\n",
    "         n_prompts = 1) |> \n",
    "  group_by(subid, week) |> \n",
    "  summarize(sum_n = sum(n), sum_prompts = sum(n_prompts), .groups = \"rowwise\") |> \n",
    "  mutate(compliance = sum_n/sum_prompts) |> \n",
    "  ungroup()\n"
   ],
   "id": "ebaee735-60c6-4a3c-b46b-71c36af19af9"
  },
  {
   "cell_type": "code",
   "execution_count": null,
   "metadata": {},
   "outputs": [],
   "source": [
    "week_compliance_all <- ema_week_compliance_4x |> \n",
    "              mutate(compliance = compliance*100) |> \n",
    "              group_by(week) |> \n",
    "              summarize(mean_compliance = mean(compliance),\n",
    "                        n = n(),\n",
    "                        sd = sd(compliance)) |> \n",
    "              mutate(se = sd/sqrt(n),\n",
    "                     signal = \"4x Daily\") |> \n",
    "  bind_rows(ema_week_compliance_1x |> \n",
    "              mutate(compliance = compliance*100) |> \n",
    "              group_by(week) |> \n",
    "              summarize(mean_compliance = mean(compliance),\n",
    "                        n = n(),\n",
    "                        sd = sd(compliance)) |> \n",
    "              mutate(se = sd/sqrt(n),\n",
    "                     signal = \"1x Daily\")) \n"
   ],
   "id": "cd266436-7d03-40e6-8451-b2ee72228014"
  },
  {
   "cell_type": "code",
   "execution_count": null,
   "metadata": {},
   "outputs": [
    {
     "output_type": "display_data",
     "metadata": {},
     "data": {
      "image/png": "[encoded data removed]"
     }
    }
   ],
   "source": [
    "#| fig-cap:\n",
    "#|   - \"EMA completion by week. The plot depicts completion percentages over time (by week) across the study period for 1x (closed circles) and 4x (open circles) daily EMA. Dashed lines represent mean EMA completion over entire study period for 1x and 4x daily EMA. Error bars represent the standard error for each completion percentage by week.\"\n",
    "\n",
    "week_compliance_all |> \n",
    "  mutate(signal = factor(signal, levels = c(\"1x Daily\", \"4x Daily\"))) |> \n",
    "  group_by(week, signal) |> \n",
    "  ggplot(aes(x = week, y = mean_compliance, group = signal, shape = signal)) +\n",
    "  geom_point(size = 2) +\n",
    "  geom_line() +\n",
    "  geom_errorbar(aes(ymin = mean_compliance - se, ymax = mean_compliance + se), \n",
    "                width = .3, linewidth = .3) +\n",
    "  theme_classic() +\n",
    "  scale_shape_manual(values = c(19, 1, 17)) +\n",
    "  scale_x_continuous(name = \"Week\", \n",
    "                     breaks = seq(1, 12, 1)) +\n",
    "  scale_y_continuous(name = \"Completion percentage\", \n",
    "                     breaks = seq(0, 100, 10), \n",
    "                     limits = c(0, 100)) +\n",
    "  geom_hline(aes(yintercept = mean_compliance), week_compliance_all |> \n",
    "               group_by(signal) |> \n",
    "               summarize(mean_compliance = mean(mean_compliance)),\n",
    "             linetype = \"dashed\", linewidth = .3) +\n",
    "  theme(legend.title = element_blank(),\n",
    "        legend.position = \"bottom\")\n"
   ],
   "id": "cell-fig-ema-1x"
  },
  {
   "cell_type": "raw",
   "metadata": {
    "raw_mimetype": "text/html"
   },
   "source": [
    "<!--***************************************************************************-->"
   ],
   "id": "498a2b77-db6e-4b21-ac54-2fe7557e911f"
  },
  {
   "cell_type": "raw",
   "metadata": {
    "raw_mimetype": "text/html"
   },
   "source": [
    "<!-- Figure S7: lapse probability predictions faceted by model-->"
   ],
   "id": "edd621a0-eb25-4b47-9b72-f35420e995b0"
  },
  {
   "cell_type": "code",
   "execution_count": null,
   "metadata": {},
   "outputs": [],
   "source": [
    "j_thres_week <- roc_week_full |> \n",
    "  mutate(j = sensitivity + specificity - 1) |> \n",
    "  slice_max(j) |> \n",
    "#  print() |> \n",
    "  pull(.threshold)\n",
    "\n",
    "j_thres_day <- roc_day_full |> \n",
    "  mutate(j = sensitivity + specificity - 1) |> \n",
    "  slice_max(j) |> \n",
    "#  print() |> \n",
    "  pull(.threshold)\n",
    "\n",
    "j_thres_hour <- roc_hour_full |> \n",
    "  mutate(j = sensitivity + specificity - 1) |> \n",
    "  slice_max(j) |> \n",
    "#  print() |> \n",
    "  pull(.threshold)\n"
   ],
   "id": "c8609d31-be92-4cf6-9e0c-62b4e3a2ad0d"
  },
  {
   "cell_type": "code",
   "execution_count": null,
   "metadata": {},
   "outputs": [],
   "source": [
    "fig_preds_week_lapse <- preds_week |> \n",
    "  rename(truth = label) |> \n",
    "  mutate(estimate = if_else(prob < .5, \"No lapse\", \"Lapse\"),\n",
    "         model = \"Week\") |> \n",
    "  filter(truth == \"Lapse\") |> \n",
    "  ggplot(aes(x = prob)) + \n",
    "   geom_histogram(bins = 15, fill = \"#F8766D\", col = \"black\", alpha = .4) +\n",
    "   facet_wrap(~model) +\n",
    "   xlab(\"Pr(Lapse)\") +\n",
    "  geom_vline(xintercept = j_thres_week, linetype = \"dashed\") +\n",
    "  scale_y_continuous(labels = scales::comma) +\n",
    "  theme(axis.title.x=element_blank(),\n",
    "        axis.text.x=element_blank(),\n",
    "        axis.ticks.x=element_blank()) +\n",
    "  ylab(\"Count\")\n",
    "\n",
    "fig_preds_week_nolapse <- preds_week |> \n",
    "  rename(truth = label) |> \n",
    "  mutate(estimate = if_else(prob < .5, \"No lapse\", \"Lapse\"),\n",
    "         model = \"Week\") |> \n",
    "  filter(truth == \"No lapse\") |> \n",
    "  ggplot(aes(x = prob)) + \n",
    "   geom_histogram(bins = 15, fill = \"#F8766D\", col = \"black\", alpha = .4) +\n",
    "   xlab(\"Pr(Lapse)\") +\n",
    "  geom_vline(xintercept = j_thres_week, linetype = \"dashed\") +\n",
    "  scale_y_continuous(labels = scales::comma) +\n",
    "  ylab(\"Count\")\n",
    "\n",
    "\n",
    "fig_preds_day_lapse <- preds_day |> \n",
    "  rename(truth = label) |> \n",
    "  mutate(estimate = if_else(prob < .5, \"No lapse\", \"Lapse\"),\n",
    "         model = \"Day\") |> \n",
    "  filter(truth == \"Lapse\") |>\n",
    "  ggplot(aes(x = prob)) + \n",
    "   geom_histogram(bins = 15, fill = \"#00BA38\", col = \"black\", alpha = .4) +\n",
    "   facet_wrap(~model) +\n",
    "   xlab(\"Pr(Lapse)\") +\n",
    "  geom_vline(xintercept = j_thres_day, linetype = \"dashed\") +\n",
    "  scale_y_continuous(labels = scales::comma) +\n",
    "  theme(axis.title.x=element_blank(),\n",
    "        axis.text.x=element_blank(),\n",
    "        axis.ticks.x=element_blank()) +\n",
    "  ylab(NULL)\n",
    "\n",
    "fig_preds_day_nolapse <- preds_day |> \n",
    "  rename(truth = label) |> \n",
    "  mutate(estimate = if_else(prob < .5, \"No lapse\", \"Lapse\"),\n",
    "         model = \"Day\") |> \n",
    "  filter(truth == \"No lapse\") |>\n",
    "  ggplot(aes(x = prob)) + \n",
    "   geom_histogram(bins = 15, fill = \"#00BA38\", col = \"black\", alpha = .4) +\n",
    "   xlab(\"Pr(Lapse)\") +\n",
    "  geom_vline(xintercept = j_thres_day, linetype = \"dashed\") +\n",
    "  scale_y_continuous(labels = scales::comma) +\n",
    "  ylab(NULL)\n",
    "\n",
    "fig_preds_hour_lapse <- preds_hour |> \n",
    "  rename(truth = label) |> \n",
    "  mutate(estimate = if_else(prob < .5, \"No lapse\", \"Lapse\"),\n",
    "         model = \"Hour\") |> \n",
    "  filter(truth == \"Lapse\") |>\n",
    "  ggplot(aes(x = prob)) + \n",
    "   geom_histogram(bins = 15, fill = \"#619CFF\", col = \"black\", alpha = .4) +\n",
    "   facet_grid(truth~model) +\n",
    "   xlab(\"Pr(Lapse)\") +\n",
    "  geom_vline(xintercept = j_thres_hour, linetype = \"dashed\") +\n",
    "  scale_y_continuous(labels = scales::comma) +\n",
    "  theme(axis.title.x=element_blank(),\n",
    "        axis.text.x=element_blank(),\n",
    "        axis.ticks.x=element_blank()) +\n",
    "  ylab(NULL)\n",
    "\n",
    "fig_preds_hour_nolapse <- preds_hour |> \n",
    "  rename(truth = label) |> \n",
    "  mutate(estimate = if_else(prob < .5, \"No lapse\", \"Lapse\"),\n",
    "         model = \"Hour\") |> \n",
    "  filter(truth == \"No lapse\") |>\n",
    "  ggplot(aes(x = prob)) + \n",
    "   geom_histogram(bins = 15, fill = \"#619CFF\", col = \"black\", alpha = .4) +\n",
    "   facet_wrap(~truth, strip.position = \"right\") +\n",
    "   xlab(\"Pr(Lapse)\") +\n",
    "  geom_vline(xintercept = j_thres_hour, linetype = \"dashed\") +\n",
    "  scale_y_continuous(labels = scales::comma) +\n",
    "  ylab(NULL)\n",
    "\n",
    "\n",
    "fig_week <- plot_grid(fig_preds_week_lapse, fig_preds_week_nolapse, ncol = 1, align = \"v\")\n",
    "fig_day <- plot_grid(fig_preds_day_lapse, fig_preds_day_nolapse, ncol = 1, align = \"v\")\n",
    "fig_hour <- plot_grid(fig_preds_hour_lapse, fig_preds_hour_nolapse, ncol = 1, align = \"v\")\n"
   ],
   "id": "ec213dc2-ca48-4b0c-ab9b-c9b7ff7eab1a"
  },
  {
   "cell_type": "code",
   "execution_count": null,
   "metadata": {},
   "outputs": [
    {
     "output_type": "display_data",
     "metadata": {},
     "data": {
      "image/png": "[encoded data removed]"
     }
    }
   ],
   "source": [
    "#| fig-cap:\n",
    "#|   - \"Lapse probability predictions by model. The plots above depict predicted probabilities for all observations in the 30 test sets. The columns are organized by model (week, day, hour). The top row depicts estimated lapse probabilities for true lapses. The bottom row depicts estimated lapse probabilities for true no lapses. The dashed vertical lines represent the decision threshold for each model, determined using Youden's index.\"\n",
    "\n",
    "plot_grid(fig_week, fig_day, fig_hour, nrow = 1, rel_widths = c(1, 1, 1.1))\n"
   ],
   "id": "cell-fig-preds"
  }
 ],
 "nbformat": 4,
 "nbformat_minor": 5,
 "metadata": {}
}
