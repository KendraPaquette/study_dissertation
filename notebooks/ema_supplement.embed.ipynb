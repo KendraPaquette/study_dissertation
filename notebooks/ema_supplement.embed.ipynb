{
 "cells": [
  {
   "cell_type": "markdown",
   "metadata": {},
   "source": [
    "# Supplemental Material for EMA Manuscript\n",
    "\n",
    "Machine learning models for temporally precise lapse prediction in alcohol use disorder\n",
    "\n",
    "Kendra Wyant, Sarah J. Sant’Ana, Gaylen E. Fronk, John J. Curtin  \n",
    "December 31, 2024\n",
    "\n",
    "This file contains the supplemental materials for *Machine learning models for temporally precise lapse prediction in alcohol use disorder*. It includes a transparency report and all supplemental methods, results, and figures. Additional materials are made available on our study’s OSF page (<https://osf.io/w5h9y/>)."
   ],
   "id": "4cb9d7fc-5dfe-46cb-b606-b32de80e0302"
  },
  {
   "cell_type": "code",
   "execution_count": null,
   "metadata": {},
   "outputs": [],
   "source": [
    "# settings\n",
    "options(knitr.kable.NA = '')\n",
    "knitr::opts_chunk$set(out.extra = \"\")\n",
    "options(scipen = 999) #removes scientific notation"
   ],
   "id": "71da73b8-9a54-4cdb-9a52-e06cf3cc4301"
  },
  {
   "cell_type": "code",
   "execution_count": null,
   "metadata": {},
   "outputs": [
    {
     "output_type": "stream",
     "name": "stderr",
     "text": [
      "\n",
      "Attaching package: 'janitor'"
     ]
    },
    {
     "output_type": "stream",
     "name": "stderr",
     "text": [
      "The following objects are masked from 'package:stats':\n",
      "\n",
      "    chisq.test, fisher.test"
     ]
    },
    {
     "output_type": "stream",
     "name": "stderr",
     "text": [
      "── Attaching core tidyverse packages ──────────────────────── tidyverse 2.0.0 ──\n",
      "✔ dplyr     1.1.4     ✔ readr     2.1.5\n",
      "✔ forcats   1.0.0     ✔ stringr   1.5.1\n",
      "✔ ggplot2   3.5.1     ✔ tibble    3.2.1\n",
      "✔ lubridate 1.9.3     ✔ tidyr     1.3.1\n",
      "✔ purrr     1.0.2     "
     ]
    },
    {
     "output_type": "stream",
     "name": "stderr",
     "text": [
      "── Conflicts ────────────────────────────────────────── tidyverse_conflicts() ──\n",
      "✖ dplyr::filter()     masks stats::filter()\n",
      "✖ dplyr::group_rows() masks kableExtra::group_rows()\n",
      "✖ dplyr::lag()        masks stats::lag()\n",
      "ℹ Use the conflicted package (<http://conflicted.r-lib.org/>) to force all conflicts to become errors"
     ]
    },
    {
     "output_type": "stream",
     "name": "stderr",
     "text": [
      "── Attaching packages ────────────────────────────────────── tidymodels 1.2.0 ──\n",
      "✔ broom        1.0.7      ✔ rsample      1.2.1 \n",
      "✔ dials        1.2.1      ✔ tune         1.2.1 \n",
      "✔ infer        1.0.7      ✔ workflows    1.1.4 \n",
      "✔ modeldata    1.3.0      ✔ workflowsets 1.1.0 \n",
      "✔ parsnip      1.2.1      ✔ yardstick    1.3.1 \n",
      "✔ recipes      1.0.10     \n",
      "── Conflicts ───────────────────────────────────────── tidymodels_conflicts() ──\n",
      "✖ scales::discard()   masks purrr::discard()\n",
      "✖ dplyr::filter()     masks stats::filter()\n",
      "✖ recipes::fixed()    masks stringr::fixed()\n",
      "✖ dplyr::group_rows() masks kableExtra::group_rows()\n",
      "✖ dplyr::lag()        masks stats::lag()\n",
      "✖ yardstick::spec()   masks readr::spec()\n",
      "✖ recipes::step()     masks stats::step()\n",
      "• Learn how to get started at https://www.tidymodels.org/start/"
     ]
    },
    {
     "output_type": "stream",
     "name": "stderr",
     "text": [
      "\n",
      "Attaching package: 'cowplot'\n",
      "\n",
      "The following object is masked from 'package:lubridate':\n",
      "\n",
      "    stamp\n",
      "\n",
      "The following object is masked from 'package:patchwork':\n",
      "\n",
      "    align_plots"
     ]
    }
   ],
   "source": [
    "library(knitr)\n",
    "# library(yardstick) # for roc_curve and pr_curve\n",
    "library(kableExtra)\n",
    "library(janitor)"
   ],
   "id": "128b80be-3f90-4202-8c30-92009791c40a"
  },
  {
   "cell_type": "code",
   "execution_count": null,
   "metadata": {},
   "outputs": [
    {
     "output_type": "stream",
     "name": "stderr",
     "text": [
      "ℹ SHA-1 hash of file is \"a58e57da996d1b70bb9a5b58241325d6fd78890f\""
     ]
    }
   ],
   "source": [
    "devtools::source_url(\"https://github.com/jjcurtin/lab_support/blob/main/format_path.R?raw=true\")"
   ],
   "id": "1069e6c4-acfd-4af5-b792-5180e86e8dd3"
  },
  {
   "cell_type": "code",
   "execution_count": null,
   "metadata": {},
   "outputs": [],
   "source": [
    "# Table data\n",
    "disposition <- read_csv(file.path(path_processed, \"disposition.csv\"), \n",
    "                        col_types = \"ccDDcccccccccc\")\n",
    "screen <- read_csv(file.path(path_shared, \"screen.csv\"), \n",
    "                   col_types = cols()) |>\n",
    "  filter(subid %in% subset(disposition, analysis == \"yes\")$subid)\n",
    "\n",
    "lapses <- read_csv(file.path(path_shared, \"lapses.csv\"), col_types = cols()) |>\n",
    "  filter(exclude == FALSE)\n",
    "\n",
    "# Predictions data\n",
    "preds_week<- read_rds(file.path(path_models, \"outer_preds_1week_0_v5_nested_main.rds\")) |> \n",
    "  select(outer_split_num, label, prob = prob_beta)\n",
    "preds_day<- read_rds(file.path(path_models, \"outer_preds_1day_0_v5_nested_main.rds\")) |> \n",
    "  select(outer_split_num, label, prob = prob_beta)\n",
    "preds_hour<- read_rds(file.path(path_models, \"outer_preds_1hour_0_v5_nested_main.rds\")) |> \n",
    "  select(outer_split_num, label, prob = prob_beta)\n",
    "\n",
    "auc_week <- read_rds(file.path(path_models, \"outer_metrics_1week_0_v5_nested_main.rds\")) |> \n",
    "  select(outer_split_num, contains(\"auc\"))\n",
    "auc_day <- read_rds(file.path(path_models, \"outer_metrics_1day_0_v5_nested_main.rds\")) |> \n",
    "  select(outer_split_num, contains(\"auc\"))\n",
    "auc_hour <- read_rds(file.path(path_models, \"outer_metrics_1hour_0_v5_nested_main.rds\")) |> \n",
    "  select(outer_split_num, contains(\"auc\"))\n",
    "\n",
    "auc_week_baseline <- read_rds(file.path(path_models, \"outer_metrics_1week_0_v3_nested_baseline.rds\")) |> \n",
    "  select(outer_split_num, contains(\"auc\")) \n",
    "\n",
    "auc_day_baseline <- read_rds(file.path(path_models, \"outer_metrics_1day_0_v3_nested_baseline.rds\")) |> \n",
    "  select(outer_split_num, contains(\"auc\")) \n",
    "\n",
    "auc_hour_baseline <- read_rds(file.path(path_models, \"outer_metrics_1hour_0_v3_nested_baseline.rds\")) |> \n",
    "  select(outer_split_num, contains(\"auc\"))\n",
    "\n",
    "# posterior probabilities\n",
    "pp <- read_rds(file.path(path_models, \"posteriors_all_0_v5_nested.rds\"))\n",
    "pp_baseline <- read_rds(file.path(path_models, \"posteriors_all_0_v3_nested_baseline.rds\"))\n",
    "\n",
    "# roc overall\n",
    "roc_week_full <- preds_week |> \n",
    "  roc_curve(prob, truth = label)\n",
    "\n",
    "roc_day_full <- preds_day |> \n",
    "  roc_curve(prob, truth = label)\n",
    "\n",
    "roc_hour_full <- preds_hour |> \n",
    "  roc_curve(prob, truth = label)\n",
    "\n",
    "# rocs per fold\n",
    "roc_week <- preds_week |> \n",
    "  nest(.by = outer_split_num, .key = \"preds\") |> \n",
    "  mutate(roc = map(preds, \\(preds) roc_curve(preds, prob,\n",
    "                                             truth = label))) |> \n",
    "  mutate(model = \"week\")\n",
    "\n",
    "roc_day <- preds_day |> \n",
    "  nest(.by = outer_split_num, .key = \"preds\") |> \n",
    "  mutate(roc = map(preds, \\(preds) roc_curve(preds, prob,\n",
    "                                             truth = label))) |> \n",
    "  mutate(model = \"day\")\n",
    "\n",
    "roc_hour <- preds_hour |> \n",
    "  nest(.by = outer_split_num, .key = \"preds\") |> \n",
    "  mutate(roc = map(preds, \\(preds) roc_curve(preds, prob,\n",
    "                                             truth = label))) |> \n",
    "  mutate(model = \"week\")\n",
    "\n",
    "\n",
    "# PR curves\n",
    "pr_week <- preds_week |> \n",
    "  pr_curve(prob, truth = label) |>  \n",
    "  mutate(model = \"1week\")\n",
    "\n",
    "pr_day <- preds_day |> \n",
    "  pr_curve(prob, truth = label) |> \n",
    "  mutate(model = \"1day\")\n",
    "\n",
    "pr_hour <- preds_hour|> \n",
    "  pr_curve(prob, truth = label) |> \n",
    "  mutate(model = \"1hour\")\n",
    "\n",
    "pr_all <- pr_week |> \n",
    "  bind_rows(pr_day) |> \n",
    "  bind_rows(pr_hour)\n",
    "\n",
    "# UPDATE - JJC\n",
    "# Local and Global Grouped SHAPS\n",
    "shap_local_week <- read_rds(file.path(path_models, \"outer_shapsgrp_1week_0_v5_nested_main.rds\")) \n",
    "shap_local_day <- read_rds(file.path(path_models, \"outer_shapsgrp_1day_0_v5_nested_main.rds\"))\n",
    "shap_local_hour <- read_rds(file.path(path_models, \"outer_shapsgrp_1hour_0_v5_nested_main.rds\")) \n",
    "\n",
    "shap_global_week <- shap_local_week |> \n",
    "  group_by(variable_grp) |>\n",
    "  summarize(mean_value = mean(abs(value)), .groups = \"drop\") |>\n",
    "  arrange(mean_value) |> \n",
    "  mutate(model = \"Week\")\n",
    "shap_global_day <- shap_local_day |>\n",
    "  group_by(variable_grp) |> \n",
    "  summarize(mean_value = mean(abs(value)), .groups = \"drop\") |>\n",
    "  arrange(mean_value) |> \n",
    "  mutate(model = \"Day\")\n",
    "shap_global_hour <- shap_local_hour |> \n",
    "  group_by(variable_grp) |>\n",
    "  summarize(mean_value = mean(abs(value)), .groups = \"drop\") |>\n",
    "  arrange(mean_value) |> \n",
    "  mutate(model = \"Hour\")\n",
    "\n",
    "shap_global_all <- shap_global_week |> \n",
    "  bind_rows(shap_global_day) |> \n",
    "  bind_rows(shap_global_hour) |> \n",
    "  mutate(model = factor(model, levels = c(\"Week\", \"Day\", \"Hour\"))) |> \n",
    "  mutate(variable_grp = factor(variable_grp, levels = c(\"past use (EMA item)\", \n",
    "                                          \"craving (EMA item)\", \n",
    "                                          \"past risky situation (EMA item)\", \n",
    "                                          \"past stressful event (EMA item)\", \n",
    "                                          \"past pleasant event (EMA item)\", \n",
    "                                          \"valence (EMA item)\", \n",
    "                                          \"arousal (EMA item)\", \n",
    "                                          \"future risky situation (EMA item)\", \n",
    "                                          \"future stressful event (EMA item)\", \n",
    "                                          \"future efficacy (EMA item)\",\n",
    "                                          \"lapse day (other)\",\n",
    "                                          \"lapse hour (other)\",\n",
    "                                          \"missing surveys (other)\",\n",
    "                                          \"age (demographic)\",\n",
    "                                          \"sex (demographic)\",\n",
    "                                          \"race (demographic)\",\n",
    "                                          \"marital (demographic)\",\n",
    "                                          \"education (demographic)\")))\n",
    "\n",
    "# lapse labels\n",
    "labels_week <- read_csv(file.path(path_processed, \"labels_1week.csv\"), col_types = cols())\n",
    "labels_day <- read_csv(file.path(path_processed, \"labels_1day.csv\"), col_types = cols())\n",
    "labels_hour <- read_csv(file.path(path_processed, \"labels_1hour.csv\"), col_types = cols())\n",
    "\n",
    "# ema data\n",
    "ema_m <- read_csv(file.path(path_shared, \"ema_morning.csv\"), col_types = cols()) |> \n",
    "  mutate(read_csv = with_tz(start_date, tzone = \"America/Chicago\"),\n",
    "         subid = as.numeric(subid))\n",
    "ema_l <- read_csv(file.path(path_shared, \"ema_later.csv\"), col_types = cols()) |> \n",
    "  mutate(start_date = with_tz(start_date, tzone = \"America/Chicago\"),\n",
    "         subid = as.numeric(subid))\n",
    "\n",
    "\n",
    "# features for missing data calculations\n",
    "d_hour <- read_csv(file.path(path_processed, \"features_1hour_0_v5.csv.xz\"), col_types = cols())\n",
    "\n",
    "d_day <- read_csv(file.path(path_processed, \"features_1day_0_v5.csv.xz\"), col_types = cols())\n",
    "\n",
    "d_week <- read_csv(file.path(path_processed, \"features_1week_0_v5.csv.xz\"), col_types = cols())"
   ],
   "id": "a6b485c1-ce1e-4233-86df-36f3b8ef95b7"
  },
  {
   "cell_type": "markdown",
   "metadata": {},
   "source": [
    "## Supplemental Figures"
   ],
   "id": "e180d037-30ed-4799-92c5-7e2fffabf823"
  },
  {
   "cell_type": "raw",
   "metadata": {
    "raw_mimetype": "text/html"
   },
   "source": [
    "<!--***************************************************************************-->"
   ],
   "id": "35662274-6658-42bd-a508-e2ac9ab84054"
  },
  {
   "cell_type": "raw",
   "metadata": {
    "raw_mimetype": "text/html"
   },
   "source": [
    "<!-- Figure S1: Consort Diagram-->"
   ],
   "id": "bac8a401-7c59-41b6-a2a3-5808d146d9fe"
  },
  {
   "cell_type": "code",
   "execution_count": null,
   "metadata": {},
   "outputs": [
    {
     "output_type": "display_data",
     "metadata": {},
     "data": {
      "image/png": "[encoded data removed]"
     }
    }
   ],
   "source": [
    "#| label: fig-consort\n",
    "#| fig-pos: \"hb\"\n",
    "#| fig-cap:\n",
    "#|   - \"CONSORT diagram. The diagram depicts participant retention at each study milestone. It also displays reasons for discontinuation when known and reasons for data exclusions.\"\n",
    "\n",
    "consort_plot(data = disposition,\n",
    "             orders = c(eligible = \"Eligible Sample\",\n",
    "                        consented_reason = \"Not Consented\",\n",
    "                        consented = \"Consented\",\n",
    "                        enrolled_reason = \"Not Enrolled\",\n",
    "                        enrolled = \"Enrolled\",\n",
    "                        completed_followup_reason = \"Discontinued\",\n",
    "                        completed_followup = \"Completed through Followup 1\",\n",
    "                        analysis_reason = \"Excluded\",\n",
    "                        analysis = \"Final Analysis\"),\n",
    "             side_box = c(\"consented_reason\", \n",
    "                          \"enrolled_reason\", \n",
    "                          \"completed_followup_reason\",\n",
    "                          \"analysis_reason\"),\n",
    "             cex = .8,\n",
    "             text_width = 45)"
   ],
   "id": "cell-fig-consort"
  },
  {
   "cell_type": "raw",
   "metadata": {
    "raw_mimetype": "text/html"
   },
   "source": [
    "<!--***************************************************************************-->"
   ],
   "id": "5ad30865-3867-4f77-8d82-673ade75a45c"
  },
  {
   "cell_type": "raw",
   "metadata": {
    "raw_mimetype": "text/html"
   },
   "source": [
    "<!-- Figure S2: EMA completion rate for 4x daily and 1x daily by week-->"
   ],
   "id": "442e332f-e34c-412c-8019-6b5a40fa053a"
  },
  {
   "cell_type": "code",
   "execution_count": null,
   "metadata": {},
   "outputs": [],
   "source": [
    "ana_sample <- disposition |> \n",
    "  filter(analysis == \"yes\")\n",
    "\n",
    "ema <- ema_m |> \n",
    "  select(subid, start_date) |> \n",
    "  full_join(ema_l |> select(subid, start_date), by = c(\"subid\", \"start_date\")) |> \n",
    "  mutate(start_date = date(start_date),\n",
    "         subid = as.numeric(subid)) |> \n",
    "  filter(subid %in% ana_sample$subid)\n",
    "\n",
    "# function to map over\n",
    "get_study_days <- function(the_subid, dates) {\n",
    "  start_study <- dates |> filter(subid == the_subid) |> pull(start_study)\n",
    "  end_study <- dates |> filter(subid == the_subid) |> pull(end_study)\n",
    "  study_days <- tibble(subid = the_subid, study_day = seq(start_study, end_study - days(1), by = \"day\")) \n",
    "  return(study_days)\n",
    "}\n",
    "\n",
    "study_dates <- ana_sample$subid |> \n",
    "  map_dfr(~get_study_days(.x, disposition |> \n",
    "                            select(subid, start_study, end_study)))\n",
    "\n",
    "# count EMAs per day\n",
    "ema_count_4x <- ema |>  \n",
    "  count(subid, start_date) |>\n",
    "  mutate(n = if_else(n > 4, 4, as.numeric(n)))\n",
    "\n",
    "# left join with study dates\n",
    "ema_study_dates <- study_dates |>\n",
    "  left_join(ema_count_4x |> \n",
    "              mutate(subid = as.character(subid)), by = c(\"subid\", \"study_day\" = \"start_date\")) |> \n",
    "  mutate(n = if_else(is.na(n), 0, n)) |> \n",
    "  mutate(n_prompts = 4)\n",
    "\n",
    "# slice into 7 day bins\n",
    "ema_study_weeks <- ema_study_dates |> \n",
    "  group_by(subid) |> \n",
    "  slice(1:7) |> \n",
    "  mutate(week = 1) |> \n",
    "  bind_rows(ema_study_dates |> \n",
    "    group_by(subid) |> \n",
    "    slice(8:14) |> \n",
    "    mutate(week = 2)) |> \n",
    "  bind_rows(ema_study_dates |> \n",
    "    group_by(subid) |> \n",
    "    slice(15:21) |> \n",
    "    mutate(week = 3)) |> \n",
    "  bind_rows(ema_study_dates |> \n",
    "    group_by(subid) |> \n",
    "    slice(22:28) |> \n",
    "    mutate(week = 4)) |> \n",
    "  bind_rows(ema_study_dates |> \n",
    "    group_by(subid) |> \n",
    "    slice(29:35) |> \n",
    "    mutate(week = 5)) |> \n",
    "  bind_rows(ema_study_dates |> \n",
    "    group_by(subid) |> \n",
    "    slice(36:42) |> \n",
    "    mutate(week = 6)) |> \n",
    "  bind_rows(ema_study_dates |> \n",
    "    group_by(subid) |> \n",
    "    slice(43:49) |> \n",
    "    mutate(week = 7)) |> \n",
    "  bind_rows(ema_study_dates |> \n",
    "    group_by(subid) |> \n",
    "    slice(50:56) |> \n",
    "    mutate(week = 8)) |> \n",
    "  bind_rows(ema_study_dates |> \n",
    "    group_by(subid) |> \n",
    "    slice(57:63) |> \n",
    "    mutate(week = 9)) |> \n",
    "  bind_rows(ema_study_dates |> \n",
    "    group_by(subid) |> \n",
    "    slice(64:70) |> \n",
    "    mutate(week = 10)) |> \n",
    "  bind_rows(ema_study_dates |> \n",
    "    group_by(subid) |> \n",
    "    slice(71:77) |> \n",
    "    mutate(week = 11)) |> \n",
    "  bind_rows(ema_study_dates |> \n",
    "    group_by(subid) |> \n",
    "    slice(78:84) |> \n",
    "    mutate(week = 12)) |> \n",
    "  ungroup()\n",
    "\n",
    "ema_week_compliance_4x <- ema_study_weeks |> \n",
    "  group_by(subid, week) |> \n",
    "  summarize(sum_n = sum(n), sum_prompts = sum(n_prompts), .groups = \"rowwise\") |> \n",
    "  mutate(compliance = sum_n/sum_prompts) |> \n",
    "  ungroup()\n",
    "\n",
    "ema_week_compliance_1x <- ema_study_weeks |>\n",
    "  mutate(n = if_else(n > 1, 1, n),\n",
    "         n_prompts = 1) |> \n",
    "  group_by(subid, week) |> \n",
    "  summarize(sum_n = sum(n), sum_prompts = sum(n_prompts), .groups = \"rowwise\") |> \n",
    "  mutate(compliance = sum_n/sum_prompts) |> \n",
    "  ungroup()"
   ],
   "id": "cebe813e-ec48-4e29-931c-266b981d9c51"
  },
  {
   "cell_type": "code",
   "execution_count": null,
   "metadata": {},
   "outputs": [
    {
     "output_type": "display_data",
     "metadata": {},
     "data": {
      "image/png": "[encoded data removed]"
     }
    }
   ],
   "source": [
    "#| label: fig-ema-1x\n",
    "#| fig-cap:\n",
    "#|   - \"EMA completion by week. The plot depicts completion percentages over time (by week) across the study period for 1x (closed circles) and 4x (open circles) daily EMA. Dashed lines represent mean EMA completion over entire study period for 1x and 4x daily EMA. Error bars represent the standard error for each completion percentage by week.\"\n",
    "\n",
    "week_compliance_all <- ema_week_compliance_4x |> \n",
    "              mutate(compliance = compliance*100) |> \n",
    "              group_by(week) |> \n",
    "              summarize(mean_compliance = mean(compliance),\n",
    "                        n = n(),\n",
    "                        sd = sd(compliance)) |> \n",
    "              mutate(se = sd/sqrt(n),\n",
    "                     signal = \"4x Daily\") |> \n",
    "  bind_rows(ema_week_compliance_1x |> \n",
    "              mutate(compliance = compliance*100) |> \n",
    "              group_by(week) |> \n",
    "              summarize(mean_compliance = mean(compliance),\n",
    "                        n = n(),\n",
    "                        sd = sd(compliance)) |> \n",
    "              mutate(se = sd/sqrt(n),\n",
    "                     signal = \"1x Daily\")) \n",
    "\n",
    "\n",
    "week_compliance_all |> \n",
    "  mutate(signal = factor(signal, levels = c(\"1x Daily\", \"4x Daily\"))) |> \n",
    "  group_by(week, signal) |> \n",
    "  ggplot(aes(x = week, y = mean_compliance, group = signal, shape = signal)) +\n",
    "  geom_point(size = 2) +\n",
    "  geom_line() +\n",
    "  geom_errorbar(aes(ymin = mean_compliance - se, ymax = mean_compliance + se), \n",
    "                width = .3, linewidth = .3) +\n",
    "  theme_classic() +\n",
    "  scale_shape_manual(values = c(19, 1, 17)) +\n",
    "  scale_x_continuous(name = \"Week\", \n",
    "                     breaks = seq(1, 12, 1)) +\n",
    "  scale_y_continuous(name = \"Completion percentage\", \n",
    "                     breaks = seq(0, 100, 10), \n",
    "                     limits = c(0, 100)) +\n",
    "  geom_hline(aes(yintercept = mean_compliance), week_compliance_all |> \n",
    "               group_by(signal) |> \n",
    "               summarize(mean_compliance = mean(mean_compliance)),\n",
    "             linetype = \"dashed\", linewidth = .3) +\n",
    "  theme(legend.title = element_blank(),\n",
    "        legend.position = \"bottom\")"
   ],
   "id": "cell-fig-ema-1x"
  },
  {
   "cell_type": "raw",
   "metadata": {
    "raw_mimetype": "text/html"
   },
   "source": [
    "<!--***************************************************************************-->"
   ],
   "id": "656be9ab-3141-43d4-b1f2-ea6d0924ecc3"
  },
  {
   "cell_type": "raw",
   "metadata": {
    "raw_mimetype": "text/html"
   },
   "source": [
    "<!-- Figure S3: Histogram of missing Values for features-->"
   ],
   "id": "8f280ad3-dc9c-4d12-a53d-55cb16dad46f"
  },
  {
   "cell_type": "code",
   "execution_count": null,
   "metadata": {},
   "outputs": [],
   "source": [
    "build_recipe <- function(d) {\n",
    "  # d: (training) dataset from which to build recipe\n",
    "\n",
    "  rec <- recipe(y ~ ., data = d) |>\n",
    "    step_rm(subid) |> \n",
    "    step_dummy(all_nominal_predictors()) \n",
    "  \n",
    "  return(rec)\n",
    "}\n",
    "\n",
    "format_data <- function (df){\n",
    "  \n",
    "  df |> \n",
    "    rename(y = \"lapse\") |> \n",
    "    mutate(y = factor(y, levels = c(\"yes\", \"no\")), # set pos class first\n",
    "           across(where(is.character), factor)) |>\n",
    "    select(-label_num, -dttm_label)\n",
    " }"
   ],
   "id": "d488ea4b-b8f1-49cd-95a8-b495142834a3"
  },
  {
   "cell_type": "code",
   "execution_count": null,
   "metadata": {},
   "outputs": [],
   "source": [
    "# week\n",
    "d_week <- d_week |> \n",
    "  format_data()\n",
    "rec <- build_recipe(d = d_week)\n",
    "feat_week <- rec |>  \n",
    "  prep(training = d_week, strings_as_factors = FALSE) |>\n",
    "  bake(new_data = d_week)  |> \n",
    "  select(-y) \n",
    "\n",
    "# day\n",
    "d_day <- d_day |> \n",
    "  format_data()\n",
    "rec <- build_recipe(d = d_day)\n",
    "feat_day <- rec |>  \n",
    "  prep(training = d_day, strings_as_factors = FALSE) |>\n",
    "  bake(new_data = d_day)  |> \n",
    "  select(-y) \n",
    "\n",
    "# hour\n",
    "d_hour <- d_hour |> \n",
    "  format_data()\n",
    "rec <- build_recipe(d = d_hour)\n",
    "feat_hour <- rec |>  \n",
    "  prep(training = d_hour, strings_as_factors = FALSE) |>\n",
    "  bake(new_data = d_hour)  |> \n",
    "  select(-y) \n",
    "\n",
    "feat_all <- feat_week |> \n",
    "  mutate(width = \"week\") |> \n",
    "  rbind(feat_day |> \n",
    "  mutate(width = \"day\")) |> \n",
    "  rbind(feat_hour |> \n",
    "  mutate(width = \"hour\")) |> \n",
    "  mutate(width = factor(width, levels = c(\"week\", \"day\", \"hour\"),\n",
    "                        labels = c(\"Week\", \"Day\", \"Hour\")))"
   ],
   "id": "45225493-7690-48a2-ab65-7d37bc8ca905"
  },
  {
   "cell_type": "code",
   "execution_count": null,
   "metadata": {},
   "outputs": [
    {
     "output_type": "display_data",
     "metadata": {},
     "data": {
      "image/png": "[encoded data removed]"
     }
    }
   ],
   "source": [
    "#| label: fig-missing\n",
    "#| fig-cap:\n",
    "#|   - \"Histogram of proportion of missing data by model. The plot depicts histograms of the proportion of missing data across the 268 features for each full model (Week, Day, and Hour).\"\n",
    "\n",
    "feat_all |> \n",
    "  group_by(width) |> \n",
    "  summarize(across(everything(), ~mean(is.na(.x)))) |> \n",
    "  pivot_longer(cols = c(everything(), -width),\n",
    "               names_to = \"feature\", values_to = \"pct_miss\") |> \n",
    "  ggplot(aes(x = pct_miss, color = width, fill = width)) +\n",
    "  geom_histogram(alpha = .5, binwidth = .01) +\n",
    "  facet_wrap(\"width\") +\n",
    "  theme(legend.position = \"none\") +\n",
    "  xlab(\"Proportion of Missing Data\") +\n",
    "  ylab(\"Count\")"
   ],
   "id": "cell-fig-missing"
  },
  {
   "cell_type": "raw",
   "metadata": {
    "raw_mimetype": "text/html"
   },
   "source": [
    "<!--***************************************************************************-->"
   ],
   "id": "971851e6-4d36-440a-8db5-6391f42c851a"
  },
  {
   "cell_type": "raw",
   "metadata": {
    "raw_mimetype": "text/html"
   },
   "source": [
    "<!-- Figure S4: ROC curves and AUCs for each held out fold for Full models-->"
   ],
   "id": "af4bcae2-458e-4d9a-8512-7b893424a9ee"
  },
  {
   "cell_type": "code",
   "execution_count": null,
   "metadata": {},
   "outputs": [],
   "source": [
    "fig_roc_week <- roc_week_full |> \n",
    "  ggplot(aes(x = 1 - specificity, y = sensitivity)) + \n",
    "  geom_abline(lty = 3) +\n",
    "  coord_fixed(xlim = c(0, 1), ylim = c(0, 1)) +\n",
    "  labs(x = \"Specificity\",\n",
    "       y = \"Sensitivity\") +\n",
    "  scale_x_continuous(breaks = seq(0,1,.25),\n",
    "    labels = sprintf(\"%.2f\", seq(1,0,-.25))) +\n",
    "  theme(axis.title.x=element_blank(),\n",
    "        axis.text.x=element_blank(),\n",
    "        axis.ticks.x=element_blank())\n",
    "  \n",
    "for (i in 1:nrow(roc_week)) {\n",
    "  fig_roc_week <- fig_roc_week +\n",
    "     geom_path(data = roc_week$roc[[i]],\n",
    "               mapping = aes(x = 1 - specificity, y = sensitivity),\n",
    "               color = \"#fdd2ce\")\n",
    "}\n",
    "\n",
    "fig_roc_week <- fig_roc_week +\n",
    "     geom_path(data = roc_week_full,\n",
    "               mapping = aes(x = 1 - specificity, y = sensitivity),\n",
    "               color = \"#F8766D\", linewidth = 1)"
   ],
   "id": "d6544aec-4361-4e44-825e-0f8722ea4335"
  },
  {
   "cell_type": "code",
   "execution_count": null,
   "metadata": {},
   "outputs": [],
   "source": [
    "fig_roc_day <- roc_day_full |> \n",
    "  ggplot(aes(x = 1 - specificity, y = sensitivity)) + \n",
    "  geom_abline(lty = 3) +\n",
    "  coord_fixed(xlim = c(0, 1), ylim = c(0, 1)) +\n",
    "  labs(x = \"Specificity\",\n",
    "       y = \"Sensitivity\") +\n",
    "  scale_x_continuous(breaks = seq(0,1,.25),\n",
    "    labels = sprintf(\"%.2f\", seq(1,0,-.25))) +\n",
    "  theme(axis.title.x=element_blank(),\n",
    "        axis.text.x=element_blank(),\n",
    "        axis.ticks.x=element_blank()) \n",
    "  \n",
    "for (i in 1:nrow(roc_day)) {\n",
    "  fig_roc_day <- fig_roc_day +\n",
    "     geom_path(data = roc_day$roc[[i]],\n",
    "               mapping = aes(x = 1 - specificity, y = sensitivity),\n",
    "               color = \"#bcffcf\")\n",
    "}\n",
    "\n",
    "fig_roc_day <- fig_roc_day +\n",
    "     geom_path(data = roc_day_full,\n",
    "               mapping = aes(x = 1 - specificity, y = sensitivity),\n",
    "               color = \"#00BA38\", linewidth = 1)"
   ],
   "id": "97360a4c-1802-42e1-b30e-359b9a91ce4a"
  },
  {
   "cell_type": "code",
   "execution_count": null,
   "metadata": {},
   "outputs": [],
   "source": [
    "fig_roc_hour <- roc_hour_full |> \n",
    "  ggplot(aes(x = 1 - specificity, y = sensitivity)) + \n",
    "  geom_abline(lty = 3) +\n",
    "  coord_fixed(xlim = c(0, 1), ylim = c(0, 1)) +\n",
    "  labs(x = \"Specificity\",\n",
    "       y = \"Sensitivity\") +\n",
    "  scale_x_continuous(breaks = seq(0,1,.25),\n",
    "    labels = sprintf(\"%.2f\", seq(1,0,-.25))) \n",
    "  \n",
    "for (i in 1:nrow(roc_hour)) {\n",
    "  fig_roc_hour <- fig_roc_hour +\n",
    "     geom_path(data = roc_hour$roc[[i]],\n",
    "               mapping = aes(x = 1 - specificity, y = sensitivity),\n",
    "               color = \"#c8dcff\")\n",
    "}\n",
    "\n",
    "fig_roc_hour <- fig_roc_hour +\n",
    "     geom_path(data = roc_week_full,\n",
    "               mapping = aes(x = 1 - specificity, y = sensitivity),\n",
    "               color = \"#619CFF\", linewidth = 1)"
   ],
   "id": "5ec53487-213a-4a99-8ef1-497971e73647"
  },
  {
   "cell_type": "code",
   "execution_count": null,
   "metadata": {},
   "outputs": [],
   "source": [
    "fig_auc_week <- auc_week |> \n",
    "  mutate(model = \"Week\") |>\n",
    "  ggplot() + \n",
    "  geom_histogram(aes(x = roc_auc), fill = \"#F8766D\", color = \"black\", alpha = .4, bins = 15) +\n",
    "  facet_wrap(~model, ncol = 1, strip.position = \"right\") +\n",
    "  theme(axis.title.x=element_blank(),\n",
    "        axis.text.x=element_blank(),\n",
    "        axis.ticks.x=element_blank(),\n",
    "        legend.position = \"none\") +\n",
    "  ylab(\"Count\")\n",
    "\n",
    "fig_auc_day <- auc_day |> \n",
    "  mutate(model = \"Day\") |>\n",
    "  ggplot() + \n",
    "  geom_histogram(aes(x = roc_auc), fill = \"#00BA38\", color = \"black\", alpha = .4, bins = 15) +\n",
    "  facet_wrap(~model, ncol = 1, strip.position = \"right\") +\n",
    "  theme(axis.title.x=element_blank(),\n",
    "        axis.text.x=element_blank(),\n",
    "        axis.ticks.x=element_blank(),\n",
    "        legend.position = \"none\") +\n",
    "  ylab(\"Count\")\n",
    "\n",
    "fig_auc_hour <- auc_hour |> \n",
    "  mutate(model = \"Hour\") |> \n",
    "  ggplot() + \n",
    "  geom_histogram(aes(x = roc_auc), fill = \"#619CFF\", color = \"black\", alpha = .4, bins = 15) +\n",
    "  facet_wrap(~model, ncol = 1, strip.position = \"right\") +\n",
    "  xlab(\"Area Under ROC Curve (per fold)\") +\n",
    "  ylab(\"Count\")"
   ],
   "id": "adcca92c-f4b2-46f1-b03f-3672f3f81d64"
  },
  {
   "cell_type": "code",
   "execution_count": null,
   "metadata": {},
   "outputs": [
    {
     "output_type": "display_data",
     "metadata": {},
     "data": {
      "image/png": "[encoded data removed]"
     }
    }
   ],
   "source": [
    "#| label: fig-roc-auc\n",
    "#| fig-cap:\n",
    "#|   - \"ROC curves and auROCs by model. The plots on the left depict individual receiver operating characteristic (ROC) curves from each of the 30 test sets. The darker curves represent the aggregate ROC curve derived by concatenating all held out folds. The dotted line represents the expected ROC curve for a random classifier. The histograms on the right depict the distribution of areas under the ROC curves (auROCs) from the same 30 test sets. The rows are organized by model (week, day, hour).\"\n",
    "\n",
    "plot_grid(fig_roc_week, fig_auc_week, fig_roc_day, fig_auc_day, fig_roc_hour, fig_auc_hour,\n",
    "          ncol = 2, align = \"h\")"
   ],
   "id": "cell-fig-roc-auc"
  },
  {
   "cell_type": "raw",
   "metadata": {
    "raw_mimetype": "text/html"
   },
   "source": [
    "<!--***************************************************************************-->"
   ],
   "id": "33756291-2135-4104-b0cf-a4c4d0198df2"
  },
  {
   "cell_type": "raw",
   "metadata": {
    "raw_mimetype": "text/html"
   },
   "source": [
    "<!-- S5: Bayesian Model Contrasts for Baseline vs. Full Models-->"
   ],
   "id": "e426aac5-5b8e-40d8-a307-20720b71e54a"
  },
  {
   "cell_type": "code",
   "execution_count": null,
   "metadata": {},
   "outputs": [
    {
     "output_type": "display_data",
     "metadata": {},
     "data": {
      "image/png": "[encoded data removed]"
     }
    }
   ],
   "source": [
    "#| label: fig-contrast\n",
    "#| fig-cap:\n",
    "#|   - \"Bayesian Contrasts for Full vs. Baseline Models. The plots above depict the posterior probabilities for the areas under the receiver operating characteristic curves (auROCs) of our Baseline vs. Full model contrasts (i.e., the difference in auROC between the models). Each row represents a model constrast (Full vs. Baseline week, Full vs. Baseline day, Full vs. Baseline hour). The solid vertical lines represent the median posterior probability. The horizontal lines represent the 95% CI. The dashed vertical lines indicate an auROC model difference of 0 which denotes no difference in performance.\"\n",
    "ci_baseline <- contrast_models(pp_baseline, \n",
    "                  list(\"hour\",\"day\", \"week\"), \n",
    "                  list(\"hour_baseline\", \"day_baseline\", \"week_baseline\")) |> \n",
    "  summary(size = .01) |> \n",
    "  mutate(contrast = factor(contrast,\n",
    "                           levels = c(\"week vs week_baseline\",\n",
    "                                      \"day vs day_baseline\",\n",
    "                                      \"hour vs hour_baseline\"),\n",
    "                           labels = c(\"Week vs. Week Baseline\",\n",
    "                                      \"Day vs. Day Baseline\",\n",
    "                                      \"Hour vs. Hour Baseline\")),\n",
    "         y = 700)\n",
    "\n",
    "ci_median_baseline <- pp_baseline |> \n",
    "  contrast_models(list(\"week\",\"day\", \"hour\"), \n",
    "                list(\"week_baseline\", \"day_baseline\", \"hour_baseline\")) |> \n",
    "  group_by(contrast) |> \n",
    "  summarize(median = quantile(difference, .5)) |> \n",
    "  mutate(contrast = factor(contrast, \n",
    "                           levels = c(\"week vs. week_baseline\", \"day vs. day_baseline\", \n",
    "                                      \"hour vs. hour_baseline\"),\n",
    "                           labels = c(\"Week vs. Week Baseline\",\n",
    "                                      \"Day vs. Day Baseline\",\n",
    "                                      \"Hour vs. Hour Baseline\")))\n",
    "\n",
    "ci_baseline <- ci_baseline |> \n",
    "  left_join(ci_median_baseline, by = c(\"contrast\")) |> \n",
    "  mutate(contrast = factor(contrast, \n",
    "                           levels = c(\"Week vs. Week Baseline\",\n",
    "                                      \"Day vs. Day Baseline\",\n",
    "                                      \"Hour vs. Hour Baseline\")))\n",
    "\n",
    "pp_baseline |>\n",
    "  tidy(seed = 123) |>\n",
    "  group_by(model) |>\n",
    "  mutate(sample = row_number()) |>\n",
    "  ungroup() |>\n",
    "  pivot_wider(names_from = model, values_from = posterior) |> \n",
    "  mutate(hour_vs_hour_baseline = hour - hour_baseline,\n",
    "         day_vs_day_baseline = day - day_baseline,\n",
    "         week_vs_week_baseline = week - week_baseline) |>\n",
    "  pivot_longer(cols = hour_vs_hour_baseline:week_vs_week_baseline,\n",
    "               names_to = \"contrast\",\n",
    "               values_to = \"posterior\") |> \n",
    "  mutate(contrast = factor(contrast,\n",
    "                           levels = c(\"week_vs_week_baseline\",\n",
    "                                      \"day_vs_day_baseline\",\n",
    "                                      \"hour_vs_hour_baseline\"),\n",
    "                           labels = c(\"Week vs. Week Baseline\",\n",
    "                                      \"Day vs. Day Baseline\",\n",
    "                                      \"Hour vs. Hour Baseline\"))) |> \n",
    "  ggplot() +\n",
    "  geom_histogram(aes(x = posterior, fill = contrast), \n",
    "                 color = \"black\",  alpha = .4, bins = 30, show.legend = FALSE) +\n",
    "  geom_vline(xintercept = 0, color = \"black\", linetype = \"dashed\") +\n",
    "  geom_segment(mapping = aes(y = y+600, yend = y+200, x = median, xend = median,\n",
    "                             color = contrast),\n",
    "               data = ci_baseline, show.legend = FALSE) +\n",
    "  geom_segment(mapping = aes(y = y+400, yend = y+400, x = lower, xend = upper, color = contrast), \n",
    "               data = ci_baseline, show.legend = FALSE) +\n",
    "  facet_wrap(~contrast, ncol = 1) +\n",
    "  xlab(\"auROC difference\") +\n",
    "  ylab(\"Count\") "
   ],
   "id": "cell-fig-contrast"
  },
  {
   "cell_type": "raw",
   "metadata": {
    "raw_mimetype": "text/html"
   },
   "source": [
    "<!--***************************************************************************-->"
   ],
   "id": "9bd15b6a-5e6b-4881-8427-066b7d6ed4a7"
  },
  {
   "cell_type": "raw",
   "metadata": {
    "raw_mimetype": "text/html"
   },
   "source": [
    "<!-- S6: Bayesian Model Contrasts among Full Models by Prediction Window-->"
   ],
   "id": "41aa8810-f788-4704-8c45-491692a84ced"
  },
  {
   "cell_type": "code",
   "execution_count": null,
   "metadata": {},
   "outputs": [
    {
     "output_type": "display_data",
     "metadata": {},
     "data": {}
    }
   ],
   "source": [
    "#| output: true\n",
    "#| fig-cap:\n",
    "#|   - \"Bayesian model contrasts. The plots above depict the posterior probabilities for the areas under the receiver operating characteristic curves (auROCs) of our model contrasts (i.e., the difference in auROC between the two models). Each row represents a model constrast (hour vs. week, hour vs. day, day vs. week). The solid vertical lines represent the median posterior probability. The horizontal lines represent the 95% CI. The dashed vertical lines indicate an auROC model difference of 0 which denotes no difference in performance.\"\n",
    "\n",
    "ci <- pp |> \n",
    "  contrast_models(list(\"hour\",\"hour\", \"day\"), \n",
    "                list(\"week\", \"day\", \"week\")) |> \n",
    "  summary(size = .01) |> \n",
    "  mutate(contrast = factor(contrast, \n",
    "                           levels = c(\"hour vs week\", \"hour vs day\", \"day vs week\"),\n",
    "                           labels = c(\"Hour vs. Week\", \"Hour vs. Day\", \"Day vs. Week\")),\n",
    "         y = 700)\n",
    "\n",
    "\n",
    "ci_median <- pp |> \n",
    "  contrast_models(list(\"hour\",\"hour\", \"day\"), \n",
    "                list(\"week\", \"day\", \"week\")) |> \n",
    "  group_by(contrast) |> \n",
    "  summarize(median = quantile(difference, .5),\n",
    "            mean = mean(difference)) |> \n",
    "  mutate(contrast = factor(contrast, \n",
    "                           levels = c(\"hour vs. week\", \"hour vs. day\", \"day vs. week\"),\n",
    "                           labels = c(\"Hour vs. Week\", \"Hour vs. Day\", \"Day vs. Week\")))\n",
    "\n",
    "ci <- ci |> \n",
    "  left_join(ci_median, by = c(\"contrast\", \"mean\"))\n",
    "\n",
    "\n",
    "pp |> \n",
    "  tidy(seed = 123) |>   \n",
    "  group_by(model) |> \n",
    "  mutate(sample = row_number()) |> \n",
    "  ungroup() |> \n",
    "  pivot_wider(names_from = model, values_from = posterior) |> \n",
    "  mutate(hour_vs_week = hour - week,\n",
    "         hour_vs_day = hour - day,\n",
    "         day_vs_week = day - week) |> \n",
    "  pivot_longer(cols = hour_vs_week:day_vs_week,\n",
    "               names_to = \"contrast\",\n",
    "               values_to = \"posterior\") |> \n",
    "  mutate(contrast = factor(contrast, \n",
    "                           levels = c(\"hour_vs_week\", \"hour_vs_day\", \"day_vs_week\"),\n",
    "                           labels = c(\"Hour vs. Week\", \"Hour vs. Day\", \"Day vs. Week\"))) |> \n",
    "  ggplot() +\n",
    "  geom_histogram(aes(x = posterior), \n",
    "                 color = \"black\", fill = \"grey\", alpha = .4, bins = 30) +\n",
    "  geom_vline(xintercept = 0, color = \"black\", linetype = \"dashed\") +\n",
    "  geom_segment(mapping = aes(y = y+100, yend = y-100, x = median, xend = median), \n",
    "               data = ci, show.legend = FALSE) +\n",
    "  geom_segment(mapping = aes(y = y, yend = y, x = lower, xend = upper), \n",
    "               data = ci, show.legend = FALSE) +\n",
    "  # geom_text(data = ci, x = c(.0255, .043, .018), y = 700, \n",
    "  #           label = str_c(round(ci$mean, 2), \" [\", round(ci$lower, 2), \", \", round(ci$upper, 2), \"]\")) +\n",
    "  facet_wrap(~contrast, ncol = 1) +\n",
    "  xlab(\"auROC difference\") +\n",
    "  ylab(\"Count\")"
   ],
   "id": "44bc9c2a-9b3c-4ea7-b4c6-b173664e63c8"
  },
  {
   "cell_type": "raw",
   "metadata": {
    "raw_mimetype": "text/html"
   },
   "source": [
    "<!--***************************************************************************-->"
   ],
   "id": "bae04631-e790-4ca3-b8c7-511127292966"
  },
  {
   "cell_type": "raw",
   "metadata": {
    "raw_mimetype": "text/html"
   },
   "source": [
    "<!-- Figure S7: lapse probability predictions faceted by model-->"
   ],
   "id": "d0f34796-616d-4042-b9fc-bff50f7017ab"
  },
  {
   "cell_type": "code",
   "execution_count": null,
   "metadata": {},
   "outputs": [],
   "source": [
    "j_thres_week <- roc_week_full |> \n",
    "  mutate(j = sensitivity + specificity - 1) |> \n",
    "  slice_max(j) |> \n",
    "#  print() |> \n",
    "  pull(.threshold)\n",
    "\n",
    "j_thres_day <- roc_day_full |> \n",
    "  mutate(j = sensitivity + specificity - 1) |> \n",
    "  slice_max(j) |> \n",
    "#  print() |> \n",
    "  pull(.threshold)\n",
    "\n",
    "j_thres_hour <- roc_hour_full |> \n",
    "  mutate(j = sensitivity + specificity - 1) |> \n",
    "  slice_max(j) |> \n",
    "#  print() |> \n",
    "  pull(.threshold)"
   ],
   "id": "bd342ae9-7b4d-41fb-b2a8-691963a6349f"
  },
  {
   "cell_type": "code",
   "execution_count": null,
   "metadata": {},
   "outputs": [
    {
     "output_type": "display_data",
     "metadata": {},
     "data": {
      "image/png": "[encoded data removed]"
     }
    }
   ],
   "source": [
    "#| label: fig-preds\n",
    "#| fig-cap:\n",
    "#|   - \"Lapse probability predictions by model. The plots above depict predicted probabilities for all observations in the 30 test sets. The columns are organized by model (week, day, hour). The top row depicts estimated lapse probabilities for true lapses. The bottom row depicts estimated lapse probabilities for true no lapses. The dashed vertical lines represent the decision threshold for each model, determined using Youden's index.\"\n",
    "\n",
    "fig_preds_week_lapse <- preds_week |> \n",
    "  rename(truth = label) |> \n",
    "  mutate(estimate = if_else(prob < .5, \"No lapse\", \"Lapse\"),\n",
    "         model = \"Week\") |> \n",
    "  filter(truth == \"Lapse\") |> \n",
    "  ggplot(aes(x = prob)) + \n",
    "   geom_histogram(bins = 15, fill = \"#F8766D\", col = \"black\", alpha = .4) +\n",
    "   facet_wrap(~model) +\n",
    "   xlab(\"Pr(Lapse)\") +\n",
    "  geom_vline(xintercept = j_thres_week, linetype = \"dashed\") +\n",
    "  scale_y_continuous(labels = scales::comma) +\n",
    "  theme(axis.title.x=element_blank(),\n",
    "        axis.text.x=element_blank(),\n",
    "        axis.ticks.x=element_blank()) +\n",
    "  ylab(\"Count\")\n",
    "\n",
    "fig_preds_week_nolapse <- preds_week |> \n",
    "  rename(truth = label) |> \n",
    "  mutate(estimate = if_else(prob < .5, \"No lapse\", \"Lapse\"),\n",
    "         model = \"Week\") |> \n",
    "  filter(truth == \"No lapse\") |> \n",
    "  ggplot(aes(x = prob)) + \n",
    "   geom_histogram(bins = 15, fill = \"#F8766D\", col = \"black\", alpha = .4) +\n",
    "   xlab(\"Pr(Lapse)\") +\n",
    "  geom_vline(xintercept = j_thres_week, linetype = \"dashed\") +\n",
    "  scale_y_continuous(labels = scales::comma) +\n",
    "  ylab(\"Count\")\n",
    "\n",
    "\n",
    "fig_preds_day_lapse <- preds_day |> \n",
    "  rename(truth = label) |> \n",
    "  mutate(estimate = if_else(prob < .5, \"No lapse\", \"Lapse\"),\n",
    "         model = \"Day\") |> \n",
    "  filter(truth == \"Lapse\") |>\n",
    "  ggplot(aes(x = prob)) + \n",
    "   geom_histogram(bins = 15, fill = \"#00BA38\", col = \"black\", alpha = .4) +\n",
    "   facet_wrap(~model) +\n",
    "   xlab(\"Pr(Lapse)\") +\n",
    "  geom_vline(xintercept = j_thres_day, linetype = \"dashed\") +\n",
    "  scale_y_continuous(labels = scales::comma) +\n",
    "  theme(axis.title.x=element_blank(),\n",
    "        axis.text.x=element_blank(),\n",
    "        axis.ticks.x=element_blank()) +\n",
    "  ylab(NULL)\n",
    "\n",
    "fig_preds_day_nolapse <- preds_day |> \n",
    "  rename(truth = label) |> \n",
    "  mutate(estimate = if_else(prob < .5, \"No lapse\", \"Lapse\"),\n",
    "         model = \"Day\") |> \n",
    "  filter(truth == \"No lapse\") |>\n",
    "  ggplot(aes(x = prob)) + \n",
    "   geom_histogram(bins = 15, fill = \"#00BA38\", col = \"black\", alpha = .4) +\n",
    "   xlab(\"Pr(Lapse)\") +\n",
    "  geom_vline(xintercept = j_thres_day, linetype = \"dashed\") +\n",
    "  scale_y_continuous(labels = scales::comma) +\n",
    "  ylab(NULL)\n",
    "\n",
    "fig_preds_hour_lapse <- preds_hour |> \n",
    "  rename(truth = label) |> \n",
    "  mutate(estimate = if_else(prob < .5, \"No lapse\", \"Lapse\"),\n",
    "         model = \"Hour\") |> \n",
    "  filter(truth == \"Lapse\") |>\n",
    "  ggplot(aes(x = prob)) + \n",
    "   geom_histogram(bins = 15, fill = \"#619CFF\", col = \"black\", alpha = .4) +\n",
    "   facet_grid(truth~model) +\n",
    "   xlab(\"Pr(Lapse)\") +\n",
    "  geom_vline(xintercept = j_thres_hour, linetype = \"dashed\") +\n",
    "  scale_y_continuous(labels = scales::comma) +\n",
    "  theme(axis.title.x=element_blank(),\n",
    "        axis.text.x=element_blank(),\n",
    "        axis.ticks.x=element_blank()) +\n",
    "  ylab(NULL)\n",
    "\n",
    "fig_preds_hour_nolapse <- preds_hour |> \n",
    "  rename(truth = label) |> \n",
    "  mutate(estimate = if_else(prob < .5, \"No lapse\", \"Lapse\"),\n",
    "         model = \"Hour\") |> \n",
    "  filter(truth == \"No lapse\") |>\n",
    "  ggplot(aes(x = prob)) + \n",
    "   geom_histogram(bins = 15, fill = \"#619CFF\", col = \"black\", alpha = .4) +\n",
    "   facet_wrap(~truth, strip.position = \"right\") +\n",
    "   xlab(\"Pr(Lapse)\") +\n",
    "  geom_vline(xintercept = j_thres_hour, linetype = \"dashed\") +\n",
    "  scale_y_continuous(labels = scales::comma) +\n",
    "  ylab(NULL)\n",
    "\n",
    "\n",
    "fig_week <- plot_grid(fig_preds_week_lapse, fig_preds_week_nolapse, ncol = 1, align = \"v\")\n",
    "fig_day <- plot_grid(fig_preds_day_lapse, fig_preds_day_nolapse, ncol = 1, align = \"v\")\n",
    "fig_hour <- plot_grid(fig_preds_hour_lapse, fig_preds_hour_nolapse, ncol = 1, align = \"v\")\n",
    "\n",
    "\n",
    "plot_grid(fig_week, fig_day, fig_hour, nrow = 1, rel_widths = c(1, 1, 1.1))"
   ],
   "id": "cell-fig-preds"
  }
 ],
 "nbformat": 4,
 "nbformat_minor": 5,
 "metadata": {}
}
